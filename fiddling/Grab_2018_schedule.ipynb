{
 "cells": [
  {
   "cell_type": "code",
   "execution_count": 1,
   "metadata": {
    "collapsed": true
   },
   "outputs": [],
   "source": [
    "import pandas as pd\n",
    "import numpy as np\n",
    "import requests\n",
    "from bs4 import BeautifulSoup\n",
    "import time"
   ]
  },
  {
   "cell_type": "code",
   "execution_count": 2,
   "metadata": {
    "collapsed": true
   },
   "outputs": [],
   "source": [
    "def make_soup(url):\n",
    "    res = requests.get(url)\n",
    "    soup = BeautifulSoup(res.text, 'lxml')\n",
    "    return soup"
   ]
  },
  {
   "cell_type": "code",
   "execution_count": 37,
   "metadata": {
    "collapsed": true
   },
   "outputs": [],
   "source": [
    "# Function to get gameIds for a particular year/week\n",
    "results = {}\n",
    "def get_gameId(year,week):\n",
    "    # Make a soup object for the appropriate page\n",
    "    url = \"http://www.espn.com/nfl/schedule/_/week/{0}/year/{1}/seasontype/2\".format(week,year)\n",
    "    soup = make_soup(url)\n",
    "    sched_page = soup.find(\"section\",{\"id\":\"main-container\"})\n",
    "    \n",
    "    # Make a list for gameIds\n",
    "    gameids = []\n",
    "    for link in sched_page.find_all(\"a\"):\n",
    "        if \"gameId\" in link.get('href') and \"watchespn\"  not in link.get('href'):\n",
    "            # Extract last bit of url listed\n",
    "            s = \"gameId=\"\n",
    "            this_game = link.get('href').split(s)[1]\n",
    "            gameids.append(this_game)\n",
    "            # And add text displayed to a dictionary\n",
    "#            results[this_game] = link.contents[0]\n",
    "    \n",
    "    hometeams = []\n",
    "    awayteams = []\n",
    "    teamnames = sched_page.find_all(\"a\", {\"class\":\"team-name\"})\n",
    "    for i, link in enumerate(teamnames):\n",
    "        if \"team/_/name\" in link.get('href'):\n",
    "            abbr = link.get('href').split(\"name\")[1].split(\"/\")[1]\n",
    "            if i%2:\n",
    "                hometeams.append(abbr)\n",
    "            else:\n",
    "                awayteams.append(abbr)\n",
    "            \n",
    "    \n",
    "#    return gameids, results\n",
    "    return (gameids, hometeams, awayteams)"
   ]
  },
  {
   "cell_type": "code",
   "execution_count": 38,
   "metadata": {},
   "outputs": [
    {
     "name": "stdout",
     "output_type": "stream",
     "text": [
      "Looking up gameIds for 2018 week 1\n",
      "{}\n"
     ]
    }
   ],
   "source": [
    "gameids = []\n",
    "gameresults = {}\n",
    "gameyear = {}\n",
    "gameweek = {}\n",
    "for year in range(2018,2019):\n",
    "    for week in range(1,2):\n",
    "        print(\"Looking up gameIds for {0} week {1}\".format(year,week))\n",
    "        ids, home, away = get_gameId(year,week)\n",
    "#        ids, results = get_gameId(year,week)\n",
    "        gameids.append(ids)\n",
    "        \n",
    "        # Add entry in dictionaries for each gameId\n",
    "        for i in ids:\n",
    "            gameyear[i] = year\n",
    "            gameweek[i] = week\n",
    "#            gameresults[i] = results[i]\n",
    "        \n",
    "        # Sleep so we don't get blocked\n",
    "        time.sleep(0.5)\n",
    "        \n",
    "# Now flatten gameids, which is a list of weekly lists\n",
    "ids = [i for sublist in gameids for i in sublist]\n",
    "print(gameresults)"
   ]
  },
  {
   "cell_type": "code",
   "execution_count": 42,
   "metadata": {},
   "outputs": [
    {
     "data": {
      "text/html": [
       "<div>\n",
       "<style>\n",
       "    .dataframe thead tr:only-child th {\n",
       "        text-align: right;\n",
       "    }\n",
       "\n",
       "    .dataframe thead th {\n",
       "        text-align: left;\n",
       "    }\n",
       "\n",
       "    .dataframe tbody tr th {\n",
       "        vertical-align: top;\n",
       "    }\n",
       "</style>\n",
       "<table border=\"1\" class=\"dataframe\">\n",
       "  <thead>\n",
       "    <tr style=\"text-align: right;\">\n",
       "      <th></th>\n",
       "      <th>season</th>\n",
       "      <th>week</th>\n",
       "      <th>home</th>\n",
       "      <th>away</th>\n",
       "    </tr>\n",
       "    <tr>\n",
       "      <th>gameId</th>\n",
       "      <th></th>\n",
       "      <th></th>\n",
       "      <th></th>\n",
       "      <th></th>\n",
       "    </tr>\n",
       "  </thead>\n",
       "  <tbody>\n",
       "    <tr>\n",
       "      <th>401030710</th>\n",
       "      <td>2018</td>\n",
       "      <td>1</td>\n",
       "      <td>phi</td>\n",
       "      <td>atl</td>\n",
       "    </tr>\n",
       "    <tr>\n",
       "      <th>401030718</th>\n",
       "      <td>2018</td>\n",
       "      <td>1</td>\n",
       "      <td>cle</td>\n",
       "      <td>pit</td>\n",
       "    </tr>\n",
       "    <tr>\n",
       "      <th>401030717</th>\n",
       "      <td>2018</td>\n",
       "      <td>1</td>\n",
       "      <td>ind</td>\n",
       "      <td>cin</td>\n",
       "    </tr>\n",
       "    <tr>\n",
       "      <th>401030716</th>\n",
       "      <td>2018</td>\n",
       "      <td>1</td>\n",
       "      <td>mia</td>\n",
       "      <td>ten</td>\n",
       "    </tr>\n",
       "    <tr>\n",
       "      <th>401030715</th>\n",
       "      <td>2018</td>\n",
       "      <td>1</td>\n",
       "      <td>min</td>\n",
       "      <td>sf</td>\n",
       "    </tr>\n",
       "    <tr>\n",
       "      <th>401030714</th>\n",
       "      <td>2018</td>\n",
       "      <td>1</td>\n",
       "      <td>ne</td>\n",
       "      <td>hou</td>\n",
       "    </tr>\n",
       "    <tr>\n",
       "      <th>401030713</th>\n",
       "      <td>2018</td>\n",
       "      <td>1</td>\n",
       "      <td>no</td>\n",
       "      <td>tb</td>\n",
       "    </tr>\n",
       "    <tr>\n",
       "      <th>401030712</th>\n",
       "      <td>2018</td>\n",
       "      <td>1</td>\n",
       "      <td>nyg</td>\n",
       "      <td>jax</td>\n",
       "    </tr>\n",
       "    <tr>\n",
       "      <th>401030711</th>\n",
       "      <td>2018</td>\n",
       "      <td>1</td>\n",
       "      <td>bal</td>\n",
       "      <td>buf</td>\n",
       "    </tr>\n",
       "    <tr>\n",
       "      <th>401030720</th>\n",
       "      <td>2018</td>\n",
       "      <td>1</td>\n",
       "      <td>lac</td>\n",
       "      <td>kc</td>\n",
       "    </tr>\n",
       "  </tbody>\n",
       "</table>\n",
       "</div>"
      ],
      "text/plain": [
       "           season  week home away\n",
       "gameId                           \n",
       "401030710    2018     1  phi  atl\n",
       "401030718    2018     1  cle  pit\n",
       "401030717    2018     1  ind  cin\n",
       "401030716    2018     1  mia  ten\n",
       "401030715    2018     1  min   sf\n",
       "401030714    2018     1   ne  hou\n",
       "401030713    2018     1   no   tb\n",
       "401030712    2018     1  nyg  jax\n",
       "401030711    2018     1  bal  buf\n",
       "401030720    2018     1  lac   kc"
      ]
     },
     "execution_count": 42,
     "metadata": {},
     "output_type": "execute_result"
    }
   ],
   "source": [
    "# Make dataframe for game-specific information using our dictionaries for year and week\n",
    "data = [ {'gameId':i,\n",
    "          'season':gameyear[i],\n",
    "          'week':gameweek[i]}\n",
    "#          'result':gameresults[i]}\n",
    "        for i in ids]\n",
    "gamedata_df = pd.DataFrame(data)\n",
    "# Set the gameId as the unique identifier for each row\n",
    "gamedata_df.set_index('gameId', inplace=True)\n",
    "gamedata_df['home'] = home\n",
    "gamedata_df['away'] = away\n",
    "gamedata_df.head(10)"
   ]
  },
  {
   "cell_type": "code",
   "execution_count": null,
   "metadata": {
    "collapsed": true
   },
   "outputs": [],
   "source": []
  }
 ],
 "metadata": {
  "kernelspec": {
   "display_name": "Python 3",
   "language": "python",
   "name": "python3"
  },
  "language_info": {
   "codemirror_mode": {
    "name": "ipython",
    "version": 3
   },
   "file_extension": ".py",
   "mimetype": "text/x-python",
   "name": "python",
   "nbconvert_exporter": "python",
   "pygments_lexer": "ipython3",
   "version": "3.6.3"
  }
 },
 "nbformat": 4,
 "nbformat_minor": 2
}
